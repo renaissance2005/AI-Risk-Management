{
 "cells": [
  {
   "cell_type": "markdown",
   "id": "3216ab8f",
   "metadata": {},
   "source": [
    "A FRAMEWORK FOR AI RISK MANAGEMENT"
   ]
  },
  {
   "cell_type": "markdown",
   "id": "a97609a8",
   "metadata": {},
   "source": [
    "This project is to demonstrate the retrievability of information from Knowledge Graph (KG). The KG is created for risk management in the field of Artificial Intelligence, limited to the context of chatbot application. "
   ]
  },
  {
   "cell_type": "code",
   "execution_count": 1,
   "id": "3a6a8aa4",
   "metadata": {},
   "outputs": [],
   "source": [
    "# Importing the relevant libraries\n",
    "from dotenv import load_dotenv\n",
    "import os\n",
    "import pandas as pd\n",
    "import textwrap\n",
    "\n",
    "# Langchain library\n",
    "from langchain_community.graphs import Neo4jGraph\n",
    "\n",
    "# Neo4j library\n",
    "from neo4j import GraphDatabase\n",
    "\n",
    "# Warning control\n",
    "import warnings\n",
    "warnings.filterwarnings(\"ignore\")"
   ]
  },
  {
   "cell_type": "markdown",
   "id": "b2fdd2d4",
   "metadata": {},
   "source": [
    "Neo4j Desktop must be running on local computer"
   ]
  },
  {
   "cell_type": "code",
   "execution_count": 2,
   "id": "b0c23de4",
   "metadata": {},
   "outputs": [],
   "source": [
    "# Load authentication information from environment\n",
    "load_dotenv('.env', override=True)\n",
    "NEO4J_URI = os.getenv('NEO4J_URI')\n",
    "NEO4J_USERNAME = os.getenv('NEO4J_USERNAME')\n",
    "NEO4J_PASSWORD = os.getenv('NEO4J_PASSWORD')\n",
    "NEO4J_DATABASE = os.getenv('NEO4J_DATABASE') or 'neo4j'"
   ]
  },
  {
   "cell_type": "code",
   "execution_count": 3,
   "id": "dcb4e0d1",
   "metadata": {},
   "outputs": [],
   "source": [
    "# Create an instance of Neo4jGraph\n",
    "kg = Neo4jGraph(\n",
    "    url=NEO4J_URI, username=NEO4J_USERNAME, password=NEO4J_PASSWORD, database=NEO4J_DATABASE\n",
    ")"
   ]
  },
  {
   "cell_type": "markdown",
   "id": "32175edc",
   "metadata": {},
   "source": [
    "Data required is inserted into excel file first "
   ]
  },
  {
   "cell_type": "code",
   "execution_count": 4,
   "id": "9f4a6db1",
   "metadata": {},
   "outputs": [],
   "source": [
    "# Read the Excel file\n",
    "excel_file = 'data-for-kg.xlsx'\n",
    "df = pd.read_excel(excel_file)\n"
   ]
  },
  {
   "cell_type": "code",
   "execution_count": 5,
   "id": "19d4a0c7",
   "metadata": {},
   "outputs": [
    {
     "data": {
      "text/plain": [
       "(28, 12)"
      ]
     },
     "execution_count": 5,
     "metadata": {},
     "output_type": "execute_result"
    }
   ],
   "source": [
    "df.shape"
   ]
  },
  {
   "cell_type": "code",
   "execution_count": 6,
   "id": "5ab5c59f",
   "metadata": {},
   "outputs": [
    {
     "data": {
      "text/html": [
       "<div>\n",
       "<style scoped>\n",
       "    .dataframe tbody tr th:only-of-type {\n",
       "        vertical-align: middle;\n",
       "    }\n",
       "\n",
       "    .dataframe tbody tr th {\n",
       "        vertical-align: top;\n",
       "    }\n",
       "\n",
       "    .dataframe thead th {\n",
       "        text-align: right;\n",
       "    }\n",
       "</style>\n",
       "<table border=\"1\" class=\"dataframe\">\n",
       "  <thead>\n",
       "    <tr style=\"text-align: right;\">\n",
       "      <th></th>\n",
       "      <th>sector</th>\n",
       "      <th>model</th>\n",
       "      <th>application</th>\n",
       "      <th>risk_name</th>\n",
       "      <th>risk_phase</th>\n",
       "      <th>risk_impact</th>\n",
       "      <th>risk_prob</th>\n",
       "      <th>ctms_name</th>\n",
       "      <th>ctms_phase</th>\n",
       "      <th>ctms_impact</th>\n",
       "      <th>ctms_prob</th>\n",
       "      <th>stakeholder</th>\n",
       "    </tr>\n",
       "  </thead>\n",
       "  <tbody>\n",
       "    <tr>\n",
       "      <th>23</th>\n",
       "      <td>Judiciary</td>\n",
       "      <td>LLM</td>\n",
       "      <td>Legal Advice Chatbot</td>\n",
       "      <td>Adversarial prompts</td>\n",
       "      <td>Deployment</td>\n",
       "      <td>moderate</td>\n",
       "      <td>moderate</td>\n",
       "      <td>Safety preprompt</td>\n",
       "      <td>Plan &amp; Design</td>\n",
       "      <td>moderate</td>\n",
       "      <td>moderate</td>\n",
       "      <td>Management</td>\n",
       "    </tr>\n",
       "    <tr>\n",
       "      <th>24</th>\n",
       "      <td>Judiciary</td>\n",
       "      <td>LLM</td>\n",
       "      <td>Legal Advice Chatbot</td>\n",
       "      <td>Adversarial prompts</td>\n",
       "      <td>Deployment</td>\n",
       "      <td>moderate</td>\n",
       "      <td>moderate</td>\n",
       "      <td>Adjusting the order of pre-defined prompt</td>\n",
       "      <td>Plan &amp; Design</td>\n",
       "      <td>moderate</td>\n",
       "      <td>moderate</td>\n",
       "      <td>Development team</td>\n",
       "    </tr>\n",
       "    <tr>\n",
       "      <th>25</th>\n",
       "      <td>Judiciary</td>\n",
       "      <td>LLM</td>\n",
       "      <td>Legal Advice Chatbot</td>\n",
       "      <td>Adversarial prompts</td>\n",
       "      <td>Deployment</td>\n",
       "      <td>moderate</td>\n",
       "      <td>moderate</td>\n",
       "      <td>Keyword matching</td>\n",
       "      <td>Plan &amp; Design</td>\n",
       "      <td>moderate</td>\n",
       "      <td>moderate</td>\n",
       "      <td>Development team</td>\n",
       "    </tr>\n",
       "    <tr>\n",
       "      <th>26</th>\n",
       "      <td>Judiciary</td>\n",
       "      <td>LLM</td>\n",
       "      <td>Legal Advice Chatbot</td>\n",
       "      <td>Adversarial prompts</td>\n",
       "      <td>Deployment</td>\n",
       "      <td>moderate</td>\n",
       "      <td>moderate</td>\n",
       "      <td>Incorporation of guardrails</td>\n",
       "      <td>Plan &amp; Design</td>\n",
       "      <td>moderate</td>\n",
       "      <td>moderate</td>\n",
       "      <td>Development team</td>\n",
       "    </tr>\n",
       "    <tr>\n",
       "      <th>27</th>\n",
       "      <td>Judiciary</td>\n",
       "      <td>LLM</td>\n",
       "      <td>Legal Advice Chatbot</td>\n",
       "      <td>Data drift</td>\n",
       "      <td>Operation &amp; Maintenance</td>\n",
       "      <td>moderate</td>\n",
       "      <td>moderate</td>\n",
       "      <td>Evaluation metrics</td>\n",
       "      <td>Deployment</td>\n",
       "      <td>moderate</td>\n",
       "      <td>moderate</td>\n",
       "      <td>Operation team</td>\n",
       "    </tr>\n",
       "  </tbody>\n",
       "</table>\n",
       "</div>"
      ],
      "text/plain": [
       "       sector model           application            risk_name  \\\n",
       "23  Judiciary   LLM  Legal Advice Chatbot  Adversarial prompts   \n",
       "24  Judiciary   LLM  Legal Advice Chatbot  Adversarial prompts   \n",
       "25  Judiciary   LLM  Legal Advice Chatbot  Adversarial prompts   \n",
       "26  Judiciary   LLM  Legal Advice Chatbot  Adversarial prompts   \n",
       "27  Judiciary   LLM  Legal Advice Chatbot           Data drift   \n",
       "\n",
       "                 risk_phase risk_impact risk_prob  \\\n",
       "23               Deployment    moderate  moderate   \n",
       "24               Deployment    moderate  moderate   \n",
       "25               Deployment    moderate  moderate   \n",
       "26               Deployment    moderate  moderate   \n",
       "27  Operation & Maintenance    moderate  moderate   \n",
       "\n",
       "                                    ctms_name     ctms_phase ctms_impact  \\\n",
       "23                           Safety preprompt  Plan & Design    moderate   \n",
       "24  Adjusting the order of pre-defined prompt  Plan & Design    moderate   \n",
       "25                           Keyword matching  Plan & Design    moderate   \n",
       "26                Incorporation of guardrails  Plan & Design    moderate   \n",
       "27                         Evaluation metrics     Deployment    moderate   \n",
       "\n",
       "   ctms_prob       stakeholder  \n",
       "23  moderate        Management  \n",
       "24  moderate  Development team  \n",
       "25  moderate  Development team  \n",
       "26  moderate  Development team  \n",
       "27  moderate    Operation team  "
      ]
     },
     "execution_count": 6,
     "metadata": {},
     "output_type": "execute_result"
    }
   ],
   "source": [
    "df.tail()"
   ]
  },
  {
   "cell_type": "code",
   "execution_count": 7,
   "id": "8e24467e",
   "metadata": {},
   "outputs": [],
   "source": [
    "# Connect to Neo4j Desktop database\n",
    "driver = GraphDatabase.driver(NEO4J_URI, auth=(NEO4J_USERNAME, NEO4J_PASSWORD))\n",
    "\n",
    "# Create nodes and relationships in Neo4j\n",
    "with driver.session() as session:\n",
    "    for _, row in df.iterrows():\n",
    "        query = (\n",
    "            f\"MERGE (c:Context {{Application: '{row['application']}', \"\n",
    "            f\"Model: '{row['model']}', Sector: '{row['sector']}'}})\"\n",
    "            \n",
    "            f\"MERGE (r:Risk {{Name:'{row['risk_name']}', LC_Phase:'{row['risk_phase']}'}})\"\n",
    "            f\"MERGE (r)-[:AFFECTS {{Probability:'{row['risk_prob']}', Impact:'{row['risk_impact']}'}}]->(c)\"            \n",
    "            \n",
    "            f\"MERGE (t:Treatment {{Name:'{row['ctms_name']}', LC_Phase:'{row['ctms_phase']}'}})\"\n",
    "            f\"MERGE (t)-[:MODIFIES {{P_effect:'{row['ctms_prob']}', I_effect:'{row['ctms_impact']}'}}]->(r)\"             \n",
    "                        \n",
    "            f\"MERGE (s:Stakeholder {{Name:'{row['stakeholder']}'}})\"\n",
    "            f\"MERGE (s)-[:RESPONSIBLE_FOR]->(t)\"\n",
    "        )\n",
    "        session.run(query)\n",
    "\n",
    "driver.close()"
   ]
  },
  {
   "cell_type": "code",
   "execution_count": 8,
   "id": "59550da9",
   "metadata": {},
   "outputs": [
    {
     "name": "stdout",
     "output_type": "stream",
     "text": [
      "Node properties: Context {Sector: STRING, Application:\n",
      "STRING, Model: STRING} Risk {Name: STRING, LC_Phase: STRING}\n",
      "Treatment {LC_Phase: STRING, Name: STRING} Stakeholder\n",
      "{Name: STRING} Relationship properties: AFFECTS\n",
      "{Probability: STRING, Impact: STRING} MODIFIES {I_effect:\n",
      "STRING, P_effect: STRING} The relationships:\n",
      "(:Risk)-[:AFFECTS]->(:Context)\n",
      "(:Treatment)-[:MODIFIES]->(:Risk)\n",
      "(:Stakeholder)-[:RESPONSIBLE_FOR]->(:Treatment)\n"
     ]
    }
   ],
   "source": [
    "# Display the schema for verification\n",
    "kg.refresh_schema()\n",
    "print(textwrap.fill(kg.schema, 60))"
   ]
  },
  {
   "cell_type": "markdown",
   "id": "4b4f302f",
   "metadata": {},
   "source": [
    "The created schema forms a logical framework that addressed the first research question. "
   ]
  },
  {
   "cell_type": "code",
   "execution_count": 9,
   "id": "3fd5c3a3",
   "metadata": {},
   "outputs": [],
   "source": [
    "# Generate query to Knowledge Graph involving the 'AFFECT' relationship\n",
    "\n",
    "QUERY_RISK = kg.query(\"\"\"\n",
    "MATCH (n:Risk)-[r:AFFECTS]->(c:Context)\n",
    "RETURN n.Name AS Risk, r.Impact, r.Probability \n",
    "\"\"\")"
   ]
  },
  {
   "cell_type": "code",
   "execution_count": 10,
   "id": "9da3161e",
   "metadata": {},
   "outputs": [
    {
     "data": {
      "text/plain": [
       "[{'Risk': 'Data drift', 'r.Impact': 'moderate', 'r.Probability': 'moderate'},\n",
       " {'Risk': 'Adversarial prompts',\n",
       "  'r.Impact': 'moderate',\n",
       "  'r.Probability': 'moderate'},\n",
       " {'Risk': 'Not-suitable-for-work (NSFW) prompts',\n",
       "  'r.Impact': 'moderate',\n",
       "  'r.Probability': 'moderate'},\n",
       " {'Risk': 'Inference attack',\n",
       "  'r.Impact': 'moderate',\n",
       "  'r.Probability': 'moderate'},\n",
       " {'Risk': 'Overhead attack',\n",
       "  'r.Impact': 'moderate',\n",
       "  'r.Probability': 'moderate'},\n",
       " {'Risk': 'Poisoning attack',\n",
       "  'r.Impact': 'moderate',\n",
       "  'r.Probability': 'moderate'},\n",
       " {'Risk': 'Evasion attack',\n",
       "  'r.Impact': 'moderate',\n",
       "  'r.Probability': 'moderate'},\n",
       " {'Risk': 'Extraction attack',\n",
       "  'r.Impact': 'moderate',\n",
       "  'r.Probability': 'moderate'},\n",
       " {'Risk': 'Token limit', 'r.Impact': 'moderate', 'r.Probability': 'moderate'},\n",
       " {'Risk': 'Injection of factual errors',\n",
       "  'r.Impact': 'moderate',\n",
       "  'r.Probability': 'moderate'},\n",
       " {'Risk': 'Hardware overload',\n",
       "  'r.Impact': 'moderate',\n",
       "  'r.Probability': 'moderate'},\n",
       " {'Risk': 'Software vulnerabilities',\n",
       "  'r.Impact': 'moderate',\n",
       "  'r.Probability': 'moderate'},\n",
       " {'Risk': 'Data leakage', 'r.Impact': 'moderate', 'r.Probability': 'moderate'},\n",
       " {'Risk': 'Inappropriate content',\n",
       "  'r.Impact': 'moderate',\n",
       "  'r.Probability': 'moderate'},\n",
       " {'Risk': 'Hallucination', 'r.Impact': 'high', 'r.Probability': 'high'},\n",
       " {'Risk': 'Harmful content',\n",
       "  'r.Impact': 'moderate',\n",
       "  'r.Probability': 'moderate'}]"
      ]
     },
     "execution_count": 10,
     "metadata": {},
     "output_type": "execute_result"
    }
   ],
   "source": [
    "# Verify the values of QUERY_RISK\n",
    "\n",
    "QUERY_RISK"
   ]
  },
  {
   "cell_type": "markdown",
   "id": "e1a8397c",
   "metadata": {},
   "source": [
    "To address the second research question, the following insights are generated:\n",
    "    i)    Distribution of risk according to phases of AI life cycle;\n",
    "    ii)   The countermeasure (risk treatment) that could mitigate the most number of risk;\n",
    "    iii)  The risk with highest priority; and\n",
    "    iv)   The most effective countermeasure (in reducing the severity of a risk)"
   ]
  },
  {
   "cell_type": "code",
   "execution_count": 11,
   "id": "d25889ca",
   "metadata": {},
   "outputs": [
    {
     "name": "stdout",
     "output_type": "stream",
     "text": [
      "Risk level for Data drift is  moderate\n",
      "Risk level for Adversarial prompts is  moderate\n",
      "Risk level for Not-suitable-for-work (NSFW) prompts is  moderate\n",
      "Risk level for Inference attack is  moderate\n",
      "Risk level for Overhead attack is  moderate\n",
      "Risk level for Poisoning attack is  moderate\n",
      "Risk level for Evasion attack is  moderate\n",
      "Risk level for Extraction attack is  moderate\n",
      "Risk level for Token limit is  moderate\n",
      "Risk level for Injection of factual errors is  moderate\n",
      "Risk level for Hardware overload is  moderate\n",
      "Risk level for Software vulnerabilities is  moderate\n",
      "Risk level for Data leakage is  moderate\n",
      "Risk level for Inappropriate content is  moderate\n",
      "Risk level for Hallucination is high\n",
      "Risk level for Harmful content is  moderate\n",
      "\n",
      "The following combinations of impact and probability value result in the highest risk level:\n",
      "Risk: Hallucination, Impact Value: high, Probability Value: high\n"
     ]
    }
   ],
   "source": [
    "# First define a function called calculate risk_level \n",
    "# Then list out the calculated risk level for each risk\n",
    "# Finally display the risk with highest risk level for consideration\n",
    "\n",
    "def calculate_risk_level(impact_value, probability_value):\n",
    "    risk_matrix = {\n",
    "        \"very high\": {\"very low\": \"very low\", \"low\": \"low\", \"moderate\": \"moderate\", \"high\": \"high\", \"very high\": \"very high\"},\n",
    "        \"high\": {\"very low\": \"very low\",  \"low\":  \"low\",  \"moderate\":\"moderate\",\"high\":\"high\",\"very high\":\"very high\"},\n",
    "        \"moderate\":{\"very low\":\" very low\",\"low\":\"low\",\"moderate\":\" moderate\",\"high\":\" moderate\",\" very high \":\"high\"},\n",
    "        'low':{\" very low \":\" very low \",\"low \":\"low \",\" moderate \":\"low \",\" high \":\" moderate \",\" very high\":\" moderate\"},\n",
    "        ' very low ':{\" very low \": \" very low\",\"low \":\"very low\",\"moderate\":\"low\", \"high\" : \"low\", \"very high\":\"low\"}\n",
    "    }\n",
    "\n",
    "\n",
    "    try:\n",
    "        risk_level = risk_matrix[impact_value][probability_value]\n",
    "    except KeyError:\n",
    "        print(\"Invalid impact or probability value.\")\n",
    "        return None\n",
    "\n",
    "    return risk_level\n",
    "\n",
    "risk_levels = {\"very low\": 1, \"low\": 2, \"moderate\": 3, \"high\": 4, \"very high\": 5}\n",
    "highest_risk_level = \"very low\"\n",
    "highest_risk_items = []\n",
    "\n",
    "# Calculate risk level for each treatment-risk pair\n",
    "for item in QUERY_RISK:\n",
    "    risk_level = calculate_risk_level(item['r.Impact'].strip(), item['r.Probability'].strip())\n",
    "    print(f\"Risk level for {item['Risk']} is {risk_level}\")\n",
    "    # print(f\"Checking risk level: {risk_level}\")  # Add this line\n",
    "    risk_level = risk_level.strip()\n",
    "    # Check if this risk level is higher than the current highest risk level\n",
    "    if risk_levels[risk_level] > risk_levels[highest_risk_level]:\n",
    "        highest_risk_level = risk_level\n",
    "        highest_risk_items = [item]  # Start a new list with this item\n",
    "    elif risk_level == highest_risk_level:\n",
    "        highest_risk_items.append(item)  # Add to the list of highest risk items\n",
    "\n",
    "# Print out the combinations of impact and probability value that result in the highest risk level\n",
    "print(\"\\nThe following combinations of impact and probability value result in the highest risk level:\")\n",
    "for item in highest_risk_items:\n",
    "    print(f\"Risk: {item['Risk']}, Impact Value: {item['r.Impact']}, Probability Value: {item['r.Probability']}\")"
   ]
  },
  {
   "cell_type": "code",
   "execution_count": 12,
   "id": "52163288",
   "metadata": {},
   "outputs": [],
   "source": [
    "# Generate query to Knowledge Graph involving the 'Risk' node\n",
    "\n",
    "QUERY_PHASE = kg.query(\"\"\"\n",
    "MATCH (r:Risk)\n",
    "WITH r.LC_Phase AS phase, count(*) AS count\n",
    "ORDER BY count DESC\n",
    "MATCH (r:Risk {LC_Phase: phase})\n",
    "RETURN r.Name, r.LC_Phase\n",
    "\"\"\")"
   ]
  },
  {
   "cell_type": "code",
   "execution_count": 13,
   "id": "8d240fb4",
   "metadata": {},
   "outputs": [
    {
     "data": {
      "text/plain": [
       "[{'r.Name': 'Harmful content', 'r.LC_Phase': 'Deployment'},\n",
       " {'r.Name': 'Hallucination', 'r.LC_Phase': 'Deployment'},\n",
       " {'r.Name': 'Inappropriate content', 'r.LC_Phase': 'Deployment'},\n",
       " {'r.Name': 'Data leakage', 'r.LC_Phase': 'Deployment'},\n",
       " {'r.Name': 'Software vulnerabilities', 'r.LC_Phase': 'Deployment'},\n",
       " {'r.Name': 'Extraction attack', 'r.LC_Phase': 'Deployment'},\n",
       " {'r.Name': 'Overhead attack', 'r.LC_Phase': 'Deployment'},\n",
       " {'r.Name': 'Inference attack', 'r.LC_Phase': 'Deployment'},\n",
       " {'r.Name': 'Not-suitable-for-work (NSFW) prompts',\n",
       "  'r.LC_Phase': 'Deployment'},\n",
       " {'r.Name': 'Adversarial prompts', 'r.LC_Phase': 'Deployment'},\n",
       " {'r.Name': 'Hardware overload', 'r.LC_Phase': 'Plan & Design'},\n",
       " {'r.Name': 'Injection of factual errors', 'r.LC_Phase': 'Plan & Design'},\n",
       " {'r.Name': 'Token limit', 'r.LC_Phase': 'Plan & Design'},\n",
       " {'r.Name': 'Evasion attack', 'r.LC_Phase': 'Modelling'},\n",
       " {'r.Name': 'Poisoning attack', 'r.LC_Phase': 'Data preparation'},\n",
       " {'r.Name': 'Data drift', 'r.LC_Phase': 'Operation & Maintenance'}]"
      ]
     },
     "execution_count": 13,
     "metadata": {},
     "output_type": "execute_result"
    }
   ],
   "source": [
    "# Verify the values in QUERY_PHASE\n",
    "\n",
    "QUERY_PHASE"
   ]
  },
  {
   "cell_type": "code",
   "execution_count": 14,
   "id": "72ead143",
   "metadata": {},
   "outputs": [
    {
     "data": {
      "image/png": "[encoded data removed]",
      "text/plain": [
       "<Figure size 640x480 with 1 Axes>"
      ]
     },
     "metadata": {},
     "output_type": "display_data"
    }
   ],
   "source": [
    "# Plot a pie chart to display the risk distribution\n",
    "# according to the phase in AI life cycle\n",
    "\n",
    "import matplotlib.pyplot as plt\n",
    "from collections import Counter\n",
    "\n",
    "\n",
    "# Count the number of each LC_Phase\n",
    "phase_counts = Counter(item['r.LC_Phase'] for item in QUERY_PHASE)\n",
    "\n",
    "# Get the phases and their counts\n",
    "phases = list(phase_counts.keys())\n",
    "counts = list(phase_counts.values())\n",
    "\n",
    "# Create a pie chart\n",
    "plt.pie(counts, labels=phases, autopct='%1.1f%%')\n",
    "plt.title('Distribution of Risk According to Phases in AI Life Cycle')\n",
    "plt.show()"
   ]
  },
  {
   "cell_type": "code",
   "execution_count": 15,
   "id": "e268e6bb",
   "metadata": {},
   "outputs": [],
   "source": [
    "# Generate query to Knowledge Graph that calculates\n",
    "# the number of 'MODERATE' relationship to associated risks\n",
    "\n",
    "QUERY_TREATMENT = kg.query(\"\"\"\n",
    "MATCH (t:Treatment)-[:MODIFIES]->(r:Risk)\n",
    "WITH t.Name AS Treatment, count(distinct r.Name) AS RiskCount\n",
    "ORDER BY RiskCount DESC\n",
    "RETURN Treatment, RiskCount\n",
    "\"\"\")"
   ]
  },
  {
   "cell_type": "code",
   "execution_count": 16,
   "id": "329ddfb5",
   "metadata": {},
   "outputs": [
    {
     "data": {
      "text/plain": [
       "[{'Treatment': 'Incorporation of guardrails', 'RiskCount': 5},\n",
       " {'Treatment': 'Detection', 'RiskCount': 3},\n",
       " {'Treatment': 'Data minimization', 'RiskCount': 2},\n",
       " {'Treatment': 'Safety preprompt', 'RiskCount': 2},\n",
       " {'Treatment': 'Intervention', 'RiskCount': 1},\n",
       " {'Treatment': 'Reranking strategy', 'RiskCount': 1},\n",
       " {'Treatment': 'Learning from human feedback', 'RiskCount': 1},\n",
       " {'Treatment': 'Exploiting external knowledge', 'RiskCount': 1},\n",
       " {'Treatment': 'Data anonymization', 'RiskCount': 1},\n",
       " {'Treatment': 'Control-flow integrity', 'RiskCount': 1},\n",
       " {'Treatment': 'Hardware error correction', 'RiskCount': 1},\n",
       " {'Treatment': 'Monitoring of utilization', 'RiskCount': 1},\n",
       " {'Treatment': 'Use local models', 'RiskCount': 1},\n",
       " {'Treatment': 'Watermarking', 'RiskCount': 1},\n",
       " {'Treatment': 'Traffic monitoring', 'RiskCount': 1},\n",
       " {'Treatment': 'Adversarial training', 'RiskCount': 1},\n",
       " {'Treatment': 'Differential privacy', 'RiskCount': 1},\n",
       " {'Treatment': 'Keyword matching', 'RiskCount': 1},\n",
       " {'Treatment': 'Adjusting the order of pre-defined prompt', 'RiskCount': 1},\n",
       " {'Treatment': 'Evaluation metrics', 'RiskCount': 1}]"
      ]
     },
     "execution_count": 16,
     "metadata": {},
     "output_type": "execute_result"
    }
   ],
   "source": [
    "# Verify the value of QUERY_TREATMENT\n",
    "\n",
    "QUERY_TREATMENT"
   ]
  },
  {
   "cell_type": "code",
   "execution_count": 17,
   "id": "6605ffce",
   "metadata": {},
   "outputs": [
    {
     "data": {
      "image/png": "[encoded data removed]",
      "text/plain": [
       "<Figure size 640x480 with 1 Axes>"
      ]
     },
     "metadata": {},
     "output_type": "display_data"
    }
   ],
   "source": [
    "# Plot a histogram to show the treatment that tackles the most risks\n",
    "\n",
    "import matplotlib.pyplot as plt\n",
    "\n",
    "# Sort the list in descending order of RiskCount\n",
    "QUERY_TREATMENT.sort(key=lambda x: x['RiskCount'], reverse=True)\n",
    "\n",
    "# Get the treatments and their counts\n",
    "treatments = [item['Treatment'] for item in QUERY_TREATMENT]\n",
    "counts = [item['RiskCount'] for item in QUERY_TREATMENT]\n",
    "\n",
    "# Create a bar chart\n",
    "plt.barh(treatments, counts, color='blue')\n",
    "\n",
    "# Label the bars with their counts\n",
    "for i, v in enumerate(counts):\n",
    "    plt.text(v, i, \" \"+str(v), color='blue', va='center')\n",
    "\n",
    "plt.xlabel('Number of Risks Treated')\n",
    "plt.ylabel('Risk Treatment')\n",
    "plt.title('Number of Risks Treated by Each Treatment')\n",
    "plt.gca().invert_yaxis()  # invert the y-axis to have the treatment with the most risks at the top\n",
    "plt.show()"
   ]
  },
  {
   "cell_type": "code",
   "execution_count": 18,
   "id": "bfaf9bc7",
   "metadata": {},
   "outputs": [],
   "source": [
    "# Generate query to Knowledge Graph that returns the values\n",
    "# for the properties I_effect and P_effect of each MODIFIES\n",
    "# relationship between Treatment and Risk\n",
    "\n",
    "QUERY_MODIFIES = kg.query(\"\"\"\n",
    "  MATCH (r:Risk)<-[m:MODIFIES]-(t:Treatment) \n",
    "  RETURN t.Name AS Treatment, m.I_effect AS Impact_effect, m.P_effect AS Probability_effect, r.Name AS Risk\n",
    "\"\"\")\n"
   ]
  },
  {
   "cell_type": "code",
   "execution_count": 19,
   "id": "a8d014fa",
   "metadata": {},
   "outputs": [
    {
     "data": {
      "text/plain": [
       "[{'Treatment': 'Intervention',\n",
       "  'Impact_effect': 'moderate',\n",
       "  'Probability_effect': 'moderate',\n",
       "  'Risk': 'Harmful content'},\n",
       " {'Treatment': 'Detection',\n",
       "  'Impact_effect': 'high',\n",
       "  'Probability_effect': 'moderate',\n",
       "  'Risk': 'Harmful content'},\n",
       " {'Treatment': 'Detection',\n",
       "  'Impact_effect': 'high',\n",
       "  'Probability_effect': 'moderate',\n",
       "  'Risk': 'Hallucination'},\n",
       " {'Treatment': 'Reranking strategy',\n",
       "  'Impact_effect': 'moderate',\n",
       "  'Probability_effect': 'moderate',\n",
       "  'Risk': 'Hallucination'},\n",
       " {'Treatment': 'Learning from human feedback',\n",
       "  'Impact_effect': 'moderate',\n",
       "  'Probability_effect': 'moderate',\n",
       "  'Risk': 'Hallucination'},\n",
       " {'Treatment': 'Exploiting external knowledge',\n",
       "  'Impact_effect': 'high',\n",
       "  'Probability_effect': 'high',\n",
       "  'Risk': 'Hallucination'},\n",
       " {'Treatment': 'Data minimization',\n",
       "  'Impact_effect': 'moderate',\n",
       "  'Probability_effect': 'moderate',\n",
       "  'Risk': 'Inappropriate content'},\n",
       " {'Treatment': 'Data anonymization',\n",
       "  'Impact_effect': 'moderate',\n",
       "  'Probability_effect': 'moderate',\n",
       "  'Risk': 'Data leakage'},\n",
       " {'Treatment': 'Incorporation of guardrails',\n",
       "  'Impact_effect': 'moderate',\n",
       "  'Probability_effect': 'moderate',\n",
       "  'Risk': 'Data leakage'},\n",
       " {'Treatment': 'Data minimization',\n",
       "  'Impact_effect': 'moderate',\n",
       "  'Probability_effect': 'moderate',\n",
       "  'Risk': 'Data leakage'},\n",
       " {'Treatment': 'Control-flow integrity',\n",
       "  'Impact_effect': 'moderate',\n",
       "  'Probability_effect': 'moderate',\n",
       "  'Risk': 'Software vulnerabilities'},\n",
       " {'Treatment': 'Hardware error correction',\n",
       "  'Impact_effect': 'moderate',\n",
       "  'Probability_effect': 'moderate',\n",
       "  'Risk': 'Hardware overload'},\n",
       " {'Treatment': 'Monitoring of utilization',\n",
       "  'Impact_effect': 'moderate',\n",
       "  'Probability_effect': 'moderate',\n",
       "  'Risk': 'Hardware overload'},\n",
       " {'Treatment': 'Safety preprompt',\n",
       "  'Impact_effect': 'moderate',\n",
       "  'Probability_effect': 'moderate',\n",
       "  'Risk': 'Injection of factual errors'},\n",
       " {'Treatment': 'Use local models',\n",
       "  'Impact_effect': 'moderate',\n",
       "  'Probability_effect': 'moderate',\n",
       "  'Risk': 'Token limit'},\n",
       " {'Treatment': 'Watermarking',\n",
       "  'Impact_effect': 'moderate',\n",
       "  'Probability_effect': 'moderate',\n",
       "  'Risk': 'Extraction attack'},\n",
       " {'Treatment': 'Incorporation of guardrails',\n",
       "  'Impact_effect': 'moderate',\n",
       "  'Probability_effect': 'moderate',\n",
       "  'Risk': 'Evasion attack'},\n",
       " {'Treatment': 'Detection',\n",
       "  'Impact_effect': 'high',\n",
       "  'Probability_effect': 'moderate',\n",
       "  'Risk': 'Poisoning attack'},\n",
       " {'Treatment': 'Traffic monitoring',\n",
       "  'Impact_effect': 'moderate',\n",
       "  'Probability_effect': 'moderate',\n",
       "  'Risk': 'Overhead attack'},\n",
       " {'Treatment': 'Adversarial training',\n",
       "  'Impact_effect': 'moderate',\n",
       "  'Probability_effect': 'moderate',\n",
       "  'Risk': 'Inference attack'},\n",
       " {'Treatment': 'Incorporation of guardrails',\n",
       "  'Impact_effect': 'moderate',\n",
       "  'Probability_effect': 'moderate',\n",
       "  'Risk': 'Inference attack'},\n",
       " {'Treatment': 'Differential privacy',\n",
       "  'Impact_effect': 'moderate',\n",
       "  'Probability_effect': 'moderate',\n",
       "  'Risk': 'Inference attack'},\n",
       " {'Treatment': 'Incorporation of guardrails',\n",
       "  'Impact_effect': 'moderate',\n",
       "  'Probability_effect': 'moderate',\n",
       "  'Risk': 'Not-suitable-for-work (NSFW) prompts'},\n",
       " {'Treatment': 'Incorporation of guardrails',\n",
       "  'Impact_effect': 'moderate',\n",
       "  'Probability_effect': 'moderate',\n",
       "  'Risk': 'Adversarial prompts'},\n",
       " {'Treatment': 'Keyword matching',\n",
       "  'Impact_effect': 'moderate',\n",
       "  'Probability_effect': 'moderate',\n",
       "  'Risk': 'Adversarial prompts'},\n",
       " {'Treatment': 'Adjusting the order of pre-defined prompt',\n",
       "  'Impact_effect': 'moderate',\n",
       "  'Probability_effect': 'moderate',\n",
       "  'Risk': 'Adversarial prompts'},\n",
       " {'Treatment': 'Safety preprompt',\n",
       "  'Impact_effect': 'moderate',\n",
       "  'Probability_effect': 'moderate',\n",
       "  'Risk': 'Adversarial prompts'},\n",
       " {'Treatment': 'Evaluation metrics',\n",
       "  'Impact_effect': 'moderate',\n",
       "  'Probability_effect': 'moderate',\n",
       "  'Risk': 'Data drift'}]"
      ]
     },
     "execution_count": 19,
     "metadata": {},
     "output_type": "execute_result"
    }
   ],
   "source": [
    "# Verify the values for QUERY_MODIFIES\n",
    "\n",
    "QUERY_MODIFIES"
   ]
  },
  {
   "cell_type": "code",
   "execution_count": 20,
   "id": "6091a48f",
   "metadata": {},
   "outputs": [
    {
     "name": "stdout",
     "output_type": "stream",
     "text": [
      "Treatment effectiveness for Intervention is  moderate\n",
      "Treatment effectiveness for Detection is moderate\n",
      "Treatment effectiveness for Detection is moderate\n",
      "Treatment effectiveness for Reranking strategy is  moderate\n",
      "Treatment effectiveness for Learning from human feedback is  moderate\n",
      "Treatment effectiveness for Exploiting external knowledge is high\n",
      "Treatment effectiveness for Data minimization is  moderate\n",
      "Treatment effectiveness for Data anonymization is  moderate\n",
      "Treatment effectiveness for Incorporation of guardrails is  moderate\n",
      "Treatment effectiveness for Data minimization is  moderate\n",
      "Treatment effectiveness for Control-flow integrity is  moderate\n",
      "Treatment effectiveness for Hardware error correction is  moderate\n",
      "Treatment effectiveness for Monitoring of utilization is  moderate\n",
      "Treatment effectiveness for Safety preprompt is  moderate\n",
      "Treatment effectiveness for Use local models is  moderate\n",
      "Treatment effectiveness for Watermarking is  moderate\n",
      "Treatment effectiveness for Incorporation of guardrails is  moderate\n",
      "Treatment effectiveness for Detection is moderate\n",
      "Treatment effectiveness for Traffic monitoring is  moderate\n",
      "Treatment effectiveness for Adversarial training is  moderate\n",
      "Treatment effectiveness for Incorporation of guardrails is  moderate\n",
      "Treatment effectiveness for Differential privacy is  moderate\n",
      "Treatment effectiveness for Incorporation of guardrails is  moderate\n",
      "Treatment effectiveness for Incorporation of guardrails is  moderate\n",
      "Treatment effectiveness for Keyword matching is  moderate\n",
      "Treatment effectiveness for Adjusting the order of pre-defined prompt is  moderate\n",
      "Treatment effectiveness for Safety preprompt is  moderate\n",
      "Treatment effectiveness for Evaluation metrics is  moderate\n",
      "\n",
      "The following combinations of impact effect and probability effect result in the most effective treatment:\n",
      "Treatment Name: Exploiting external knowledge, Impact Effect: high, Probability Effect: high\n"
     ]
    }
   ],
   "source": [
    "# First define a function called calculate_treatment_effect \n",
    "# Then list out the calculated treatment_effect for each treatment\n",
    "# Finally display the treatment with the highest treatment_effect \n",
    "\n",
    "def calculate_treatment_effect(impact_value, probability_value):\n",
    "    effect_matrix = {\n",
    "        \"very high\": {\"very low\": \"very low\", \"low\": \"low\", \"moderate\": \"moderate\", \"high\": \"high\", \"very high\": \"very high\"},\n",
    "        \"high\": {\"very low\": \"very low\",  \"low\":  \"low\",  \"moderate\":\"moderate\",\"high\":\"high\",\"very high\":\"very high\"},\n",
    "        \"moderate\":{\"very low\":\" very low\",\"low\":\"low\",\"moderate\":\" moderate\",\"high\":\" moderate\",\" very high \":\"high\"},\n",
    "        'low':{\" very low \":\" very low \",\"low \":\"low \",\" moderate \":\"low \",\" high \":\" moderate \",\" very high\":\" moderate\"},\n",
    "        ' very low ':{\" very low \": \" very low\",\"low \":\"very low\",\"moderate\":\"low\", \"high\" : \"low\", \"very high\":\"low\"}\n",
    "    }\n",
    "\n",
    "\n",
    "    try:\n",
    "        treatment_effect = effect_matrix[impact_value][probability_value]\n",
    "    except KeyError:\n",
    "        print(\"Invalid impact or probability value.\")\n",
    "        return None\n",
    "\n",
    "    return treatment_effect\n",
    "\n",
    "treatment_definition = {\"very low\": 1, \"low\": 2, \"moderate\": 3, \"high\": 4, \"very high\": 5}\n",
    "highest_treatment_level = \"very low\"\n",
    "highest_treatment_items = []\n",
    "\n",
    "# Calculate risk level for each treatment-risk pair\n",
    "for item in QUERY_MODIFIES:\n",
    "    treatment_effect = calculate_treatment_effect(item['Impact_effect'].strip(), item['Probability_effect'].strip())\n",
    "    print(f\"Treatment effectiveness for {item['Treatment']} is {treatment_effect}\")\n",
    "    # Ensure no empty characters before and after the text\n",
    "    treatment_effect = treatment_effect.strip()\n",
    "    \n",
    "    # Check if this risk level is higher than the current highest risk level\n",
    "    if treatment_definition[treatment_effect] > treatment_definition[highest_treatment_level]:\n",
    "        highest_treatment_level = treatment_effect\n",
    "        highest_treatment_items = [item]  # Start a new list with this item\n",
    "    elif treatment_effect == highest_treatment_level:\n",
    "        highest_treatment_items.append(item)  # Add to the list of highest risk items\n",
    "\n",
    "# Print out the combinations of impact and probability value that result in the highest risk level\n",
    "print(\"\\nThe following combinations of impact effect and probability effect result in the most effective treatment:\")\n",
    "for item in highest_treatment_items:\n",
    "    print(f\"Treatment Name: {item['Treatment']}, Impact Effect: {item['Impact_effect']}, Probability Effect: {item['Probability_effect']}\")"
   ]
  },
  {
   "cell_type": "markdown",
   "id": "c39bb582",
   "metadata": {},
   "source": [
    "End of the code for this project"
   ]
  }
 ],
 "metadata": {
  "kernelspec": {
   "display_name": "Python 3 (ipykernel)",
   "language": "python",
   "name": "python3"
  },
  "language_info": {
   "codemirror_mode": {
    "name": "ipython",
    "version": 3
   },
   "file_extension": ".py",
   "mimetype": "text/x-python",
   "name": "python",
   "nbconvert_exporter": "python",
   "pygments_lexer": "ipython3",
   "version": "3.11.5"
  }
 },
 "nbformat": 4,
 "nbformat_minor": 5
}
